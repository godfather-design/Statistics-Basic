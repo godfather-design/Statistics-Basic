{
  "nbformat": 4,
  "nbformat_minor": 0,
  "metadata": {
    "colab": {
      "provenance": []
    },
    "kernelspec": {
      "name": "python3",
      "display_name": "Python 3"
    },
    "language_info": {
      "name": "python"
    }
  },
  "cells": [
    {
      "cell_type": "code",
      "execution_count": null,
      "metadata": {
        "id": "hPIEw-5Q4q9k"
      },
      "outputs": [],
      "source": []
    },
    {
      "cell_type": "markdown",
      "source": [
        "#Statics Basics\n",
        "\n",
        "###**Theoritical Questions**\n",
        "\n",
        "**Question No. 1. What is statistics, and why is it important?**\n",
        "\n",
        "**Answer.** Statistics is the branch of mathematics that deals with collecting, organizing, analyzing, interpreting, and presenting data. It helps in understanding patterns, making predictions, and supporting decision-making based on data. Statistics is important because it allows researchers, businesses, and governments to make informed decisions by providing insights from data. For example, in healthcare, it helps in analyzing the effectiveness of treatments; in business, it supports market research and sales forecasting. Overall, statistics transforms raw data into meaningful information, making it a powerful tool in almost every field.\n",
        "\n",
        "**Question No. 2. What are the two main types of statistics?**\n",
        "\n",
        "**Answer.** The two main types of statistics are descriptive statistics and inferential statistics.\n",
        "\n",
        "**Descriptive statistics** summarize and organize data using measures like mean, median, mode, range, and graphs. They help in understanding the basic features of a dataset.\n",
        "\n",
        "**Inferential statistics**` involve making predictions or generalizations about a population based on a sample. This includes techniques like hypothesis testing, confidence intervals, and regression analysis.\n",
        "\n",
        "**Question No. 3. What are descriptive statistics?**\n",
        "\n",
        "**Answer.** Descriptive statistics are methods used to summarize, organize, and present data in a meaningful way. They help describe the main features of a dataset without making conclusions beyond the data. Common tools include measures of central tendency (mean, median, mode), measures of dispersion (range, variance, standard deviation), and visual tools like charts and graphs (bar charts, histograms, pie charts).\n",
        "\n",
        "**Question. No. 4. What is inferenctial statistics?**\n",
        "\n",
        "**Answer.** Inferential statistics involves using data from a sample to make generalizations or predictions about a larger population. Unlike descriptive statistics, which only summarize data, inferential statistics allow us to draw conclusions, test hypotheses, and make forecasts. Common techniques include confidence intervals, hypothesis testing, regression analysis, and ANOVA.\n",
        "\n",
        "**Question. No. 5. What is sampling in statistics?**\n",
        "\n",
        "**Answer.** Sampling in statistics is the process of selecting a subset of individuals or items from a larger population to gather information and make inferences about the whole group. It saves time, cost, and effort compared to studying the entire population. A well-chosen sample can accurately reflect the characteristics of the population. For example, selecting 100 students from a university of 10,000 to study study habits is sampling. It is a key part of statistical analysis and research.\n",
        "\n",
        "**Question. No. 6. What are the different types of sampling methods?**\n",
        "\n",
        "**Answer.** Types of Sampling are as follows:\n",
        "\n",
        "**Random Sampling:** Every individual in the population has an equal chance of being selected. This method reduces bias and ensures a representative sample. For example, picking names out of a hat.\n",
        "\n",
        "**Systematic Sampling:** You select every kth individual from a list, like choosing every 10th person on a list. It’s simpler but can introduce bias if there’s a pattern.\n",
        "\n",
        "**Stratified Sampling:** The population is divided into groups (strata) based on characteristics (like age or gender), then random samples are taken from each group to ensure all groups are represented.\n",
        "\n",
        "**Cluster Sampling:** The population is divided into clusters (like cities or schools), some clusters are randomly selected, and all members within those clusters are studied. It’s useful for large, spread-out populations.\n",
        "\n",
        "**Question. No. 7. What is the difference between random and non-random sampling?**\n",
        "\n",
        "**Answer.** The difference between Random sampling and Non-Random sampling is as follow:\n",
        "\n",
        "**Random sampling** gives every member of the population an equal chance of being selected, which helps produce unbiased, representative samples. Examples include simple random and stratified sampling.\n",
        "\n",
        "**Non-random sampling** does not give equal chances and may involve researcher judgment or convenience, which can lead to bias. Examples include convenience sampling and purposive sampling.\n",
        "\n",
        "**Question. No. 8. Define and give examples of qualitative and quantative data.**\n",
        "\n",
        "**Answer.**  **Qualitative data** describes qualities or characteristics and is non-numeric. It includes categories, labels, or attributes. For example, eye color (blue, green), gender (male, female), or types of cuisine (Italian, Chinese).\n",
        "\n",
        "**Quantitative data** is numeric and measures quantities or amounts. It can be counted or measured. Examples include height (in centimeters), age (in years), and test scores (out of 100).\n",
        "\n",
        "**Question. No. 9. What are the different types of data in statistics?**\n",
        "\n",
        "**Answer.** The main types of data in statistics are:\n",
        "\n",
        "**1. Qualitative (Categorical) Data:** Describes categories or groups, such as gender or colors.\n",
        "\n",
        "**2. Quantitative (Numerical) Data:** Represents numbers and measurements, like height or age.\n",
        "\n",
        "Quantitative data is further divided into:\n",
        "\n",
        "**a. Discrete Data:** Countable values (e.g., number of students).\n",
        "\n",
        "**b. Continuous Data:** Measurable values that can take any value in a range (e.g., weight, temperature).\n",
        "\n",
        "**Question. No. 10. Explain nominal, ordinal, interval and ratio levels of measurement.**\n",
        "\n",
        "**Answer.** The four levels of measurement in statistics are:\n",
        "\n",
        "**Nominal:** Data are categories without any order (e.g., colors, gender). Numbers may label groups but have no numeric meaning.\n",
        "\n",
        "**Ordinal:** Data have a meaningful order but no fixed difference between values (e.g., rankings like 1st, 2nd, 3rd).\n",
        "\n",
        "**Interval:** Data have ordered values with equal intervals but no true zero (e.g., temperature in Celsius).\n",
        "\n",
        "**Ratio:** Like interval, but with a true zero, allowing meaningful ratios (e.g., height, weight).\n",
        "\n",
        "**Question. No. 11. What is the measure of central tendency?**\n",
        "\n",
        "**Answer.** The measure of central tendency is a statistical value that represents the center or typical value of a dataset. It summarizes the data by identifying a single value around which the data points tend to cluster. The most common measures are mean (average), median (middle value), and mode (most frequent value). These measures help simplify data analysis and provide insights into the general behavior or trend of the data. They are widely used in various fields to understand data patterns.\n",
        "\n",
        "**Question. No. 12. Define mean, median and mode.**\n",
        "\n",
        "**Answer.**\n",
        "**Mean** is the average of all data points, found by adding them together and dividing by the number of values.\n",
        "\n",
        "**Median** is the middle value when data are arranged in order. If there’s an even number of values, it’s the average of the two middle ones.\n",
        "\n",
        "**Mode** is the value that appears most frequently in the dataset.\n",
        "\n",
        "**Question. No. 13. What is the significance of the measure of central tendency?**\n",
        "\n",
        "**Answer.** The measure of central tendency is important because it summarizes a large set of data into a single representative value, making it easier to understand and compare data. It helps identify the typical or average outcome in a dataset, aiding decision-making and analysis. For example, knowing the average test score shows overall performance, while the median can reveal the middle point when data is skewed. These measures provide insights into data trends and support meaningful conclusions in research and everyday life.\n",
        "\n",
        "**Question. No. 14. What is variance and how is it calculated?**\n",
        "\n",
        "**Answer.** Variance measures how much data points spread out from the mean (average) of a dataset. It shows the degree of variability or dispersion.\n",
        "\n",
        "To calculate variance:\n",
        "\n",
        "Find the mean of the data.\n",
        "\n",
        "Subtract the mean from each data point and square the result (to avoid negatives).\n",
        "\n",
        "Find the average of these squared differences.\n",
        "\n",
        "For a population, divide by the total number of data points; for a sample, divide by one less than the number of data points (n-1). Variance helps understand data consistency.\n",
        "\n",
        "**Question. No. 15. What is standard deviation and why is it important?**\n",
        "\n",
        "**Answer.** Standard deviation is a measure that shows how much data points typically vary or spread out from the mean. It is the square root of the variance, which puts it back in the same units as the data.\n",
        "\n",
        "It’s important because it helps understand data consistency—whether values are close to the average or widely spread. A small standard deviation means data are tightly clustered, while a large one indicates more variability. It’s widely used in finance, research, and quality control to assess risk and reliability.\n",
        "\n",
        "**Question. No. 16. Define and explain the term range in statistics.**\n",
        "\n",
        "**Answer.** Range in statistics is the simplest measure of data spread. It is the difference between the highest and lowest values in a dataset.\n",
        "\n",
        "**Range = Maximum value − Minimum value**\n",
        "\n",
        "For example, if test scores range from 50 to 90, the range is 40. It shows the total spread of the data but doesn’t provide information about how data points are distributed between these extremes. Range is easy to calculate but can be affected by outliers.\n",
        "\n",
        "**Question. No. 17. What is the difference between variance and standard deviation?**\n",
        "\n",
        "**Answer.**\n",
        "Variance measures the average squared differences between data points and the mean, showing how spread out the data are. Because it squares differences, its units are squared (e.g., square meters).\n",
        "\n",
        "Standard deviation is the square root of variance, so it’s in the same units as the original data. It shows the typical amount data points deviate from the mean.\n",
        "\n",
        "**Question. No. 18. What is skewness in a dataset?**\n",
        "\n",
        "**Answer.** Skewness measures the asymmetry of a dataset’s distribution around its mean. It shows whether data are spread more to one side than the other.\n",
        "\n",
        "If skewness is zero, the data are perfectly symmetrical (like a normal distribution).\n",
        "\n",
        "If skewness is positive, the right tail is longer or fatter (more values are smaller, with some large outliers).\n",
        "\n",
        "If skewness is negative, the left tail is longer or fatter (more values are larger, with some small outliers).\n",
        "\n",
        "**Question No. 19. What does it mean if a dataset is positively or negetively skewed?**\n",
        "\n",
        "**Anwer.** If a dataset is **positively skewed**, most data values are concentrated on the left (lower values), with a long tail extending to the right (higher values). This means there are some unusually large values pulling the mean to the right.\n",
        "\n",
        "If a dataset is **negatively skewed**, most values are on the right (higher values), with a long tail to the left (lower values). This means there are some unusually small values pulling the mean to the left.\n",
        "\n",
        "**Question. No. 20. Define and explain kurtosis.**\n",
        "\n",
        "**Answer.** Kurtosis measures the \"tailedness\" or peakedness of a data distribution compared to a normal distribution. It shows how much of the data lies in the tails versus the center.\n",
        "\n",
        "There are three types:\n",
        "\n",
        "**1. Mesokurtic** – Normal kurtosis (like a bell curve).\n",
        "\n",
        "**2. Leptokurtic** – High kurtosis; sharper peak and fatter tails, indicating more extreme values.\n",
        "\n",
        "**3. Platykurtic** – Low kurtosis; flatter peak and thinner tails, meaning fewer extreme values.\n",
        "\n",
        "**Question. No. 21. What is the purpose of covariance?**\n",
        "\n",
        "**Answer.** Covariance measures the direction of the relationship between two variables—how they change together. If both variables increase or decrease together, the covariance is positive. If one increases while the other decreases, it’s negative.\n",
        "\n",
        "The purpose of covariance is to determine whether two variables have a relationship and whether that relationship is direct or inverse. However, it doesn’t show the strength of the relationship or scale, which is why correlation is often used alongside it.\n",
        "\n",
        "**Question. No. 22. What does correlation measure in statistics?**\n",
        "\n",
        "**Answer.** Correlation measures the strength and direction of the linear relationship between two variables. It is expressed by the correlation coefficient (r), which ranges from -1 to +1:\n",
        "\n",
        "+1 means a perfect positive relationship (as one increases, so does the other).\n",
        "\n",
        "-1 means a perfect negative relationship (as one increases, the other decreases).\n",
        "\n",
        "0 means no linear relationship.\n",
        "\n",
        "**Question. No. 23. What is the difference between covariance and correlation?**\n",
        "\n",
        "**Answer.** The main difference between covariance and correlation lies in their scale and interpretability:\n",
        "\n",
        "**Covariance** measures the direction of the relationship between two variables (positive or negative), but its value is not standardized and depends on the units of the variables, making it harder to compare.\n",
        "\n",
        "**Correlation** standardizes covariance by dividing it by the product of the standard deviations of the variables. It ranges from -1 to +1, showing both the direction and strength of the relationship, making it easier to interpret and compare.\n",
        "\n",
        "**Question. No. 24. What are some real-world application of statistics?**\n",
        "\n",
        "**Answer.** Statistics has many real-world applications across various fields:\n",
        "\n",
        "**1. Healthcare:** Analyzing clinical trial results and disease trends.\n",
        "\n",
        "**2. Business:** Studying market trends, customer behavior, and quality control.\n",
        "\n",
        "**3. Government:** Conducting censuses, setting policies, and budgeting.\n",
        "\n",
        "**4. Education:** Evaluating student performance and curriculum effectiveness.\n",
        "\n",
        "**5. Sports:** Assessing player performance and game strategies.\n",
        "\n",
        "**6. Economics:** Forecasting inflation, GDP, and unemployment rates.\n",
        "\n",
        "**7. Research:** Designing experiments and analyzing scientific data.\n",
        "\n",
        "\n",
        "#Practical Questions\n",
        "\n",
        "**Question. No. 1. 1. How do you calculate the mean, median, and mode of a dataset?**\n",
        "\n",
        "**Answer.** **Mean:** Add all the values of the dataset and divide the obtained sum by the number of values.\n",
        "\n",
        "**Median:** Arrange values in order (asending or desending) and find the middle value by (n+1)/2 if the no. of values are odd (or average of two middle ones if the no. of observations are even by adding (n/2)th term and ((n/2)+1)th term and dividing the obtained sum by 2.\n",
        "\n",
        "**Mode:** The most frequently occurring value in the dataset.\n",
        "\n",
        "**Question. No. 2. Python Program for Variance and Standard Deviation**\n",
        "\n",
        "**Answer.**"
      ],
      "metadata": {
        "id": "r9zUutdv4tT_"
      }
    },
    {
      "cell_type": "code",
      "source": [
        "import numpy as np\n",
        "\n",
        "data = [10, 20, 30, 40, 50, 45, 23, 78, 34, 67]"
      ],
      "metadata": {
        "id": "9FdVJ6RU4wC0"
      },
      "execution_count": 1,
      "outputs": []
    },
    {
      "cell_type": "code",
      "source": [
        "variance = np.var(data)\n",
        "print(variance)"
      ],
      "metadata": {
        "colab": {
          "base_uri": "https://localhost:8080/"
        },
        "id": "v2BWYNO647kD",
        "outputId": "daecf6eb-b924-43bc-cd52-cad861c2500f"
      },
      "execution_count": 3,
      "outputs": [
        {
          "output_type": "stream",
          "name": "stdout",
          "text": [
            "402.21000000000004\n"
          ]
        }
      ]
    },
    {
      "cell_type": "code",
      "source": [
        "Standard_deaviation = np.std(data)\n",
        "print(Standard_deaviation)"
      ],
      "metadata": {
        "colab": {
          "base_uri": "https://localhost:8080/"
        },
        "id": "Q1JPt3dW4_0H",
        "outputId": "0e5f1182-83f6-42f7-fc50-e0f5e4d8249a"
      },
      "execution_count": 4,
      "outputs": [
        {
          "output_type": "stream",
          "name": "stdout",
          "text": [
            "20.055173896029924\n"
          ]
        }
      ]
    },
    {
      "cell_type": "markdown",
      "source": [
        "**Question. No. 3. Create a dataset and classify it into nominal, ordinal, internal and ratio types.**\n",
        "\n",
        "**Answer.**"
      ],
      "metadata": {
        "id": "KPRFRFgk5gKB"
      }
    },
    {
      "cell_type": "code",
      "source": [
        "dataset = {\n",
        "    \"Nominal\": [\"Red\", \"Blue\", \"Green\"],\n",
        "    \"Ordinal\": [\"Low\", \"Medium\", \"High\"],\n",
        "    \"Interval\": [20, 25, 30, 35],\n",
        "    \"Ratio\": [10, 20, 30, 40]\n",
        "}\n"
      ],
      "metadata": {
        "id": "SHYuh0pD5ccG"
      },
      "execution_count": 6,
      "outputs": []
    },
    {
      "cell_type": "markdown",
      "source": [
        "**Question. No. 4. Create a dataset and classify it into nominal, ordinal, internal and ratio types.**\n",
        "\n",
        "**Answer.**\n"
      ],
      "metadata": {
        "id": "xscIPDFw68gb"
      }
    },
    {
      "cell_type": "code",
      "source": [
        "import random\n",
        "import pandas as pd\n",
        "\n",
        "# Random Sampling\n",
        "data = list(range(1, 101))\n",
        "random_sample = random.sample(data, 10)\n",
        "print(\"Random Sample:\", random_sample)\n",
        "\n",
        "# Stratified Sampling using pandas\n",
        "df = pd.DataFrame({\n",
        "    \"Group\": [\"A\"] * 50 + [\"B\"] * 50,\n",
        "    \"Value\": list(range(1, 101))\n",
        "})\n",
        "stratified_sample = df.groupby(\"Group\").sample(n=5)\n",
        "print(\"Stratified Sample:\\n\", stratified_sample)\n"
      ],
      "metadata": {
        "colab": {
          "base_uri": "https://localhost:8080/"
        },
        "id": "boYKCf028sXb",
        "outputId": "7a71002f-e63d-49a3-c758-af0d6e92dd31"
      },
      "execution_count": 7,
      "outputs": [
        {
          "output_type": "stream",
          "name": "stdout",
          "text": [
            "Random Sample: [4, 10, 30, 64, 89, 94, 18, 85, 31, 77]\n",
            "Stratified Sample:\n",
            "    Group  Value\n",
            "33     A     34\n",
            "38     A     39\n",
            "35     A     36\n",
            "22     A     23\n",
            "37     A     38\n",
            "92     B     93\n",
            "79     B     80\n",
            "87     B     88\n",
            "83     B     84\n",
            "89     B     90\n"
          ]
        }
      ]
    },
    {
      "cell_type": "markdown",
      "source": [
        "**Question. No. 5. Write a Python function to calculate the range of a dataset.**\n",
        "\n",
        "**Answer.**"
      ],
      "metadata": {
        "id": "S7dQKp3v9DLF"
      }
    },
    {
      "cell_type": "code",
      "source": [
        "def calculate_range(data):\n",
        "    return max(data) - min(data)\n",
        "\n",
        "data = [5, 15, 25, 35]\n",
        "print(\"Range:\", calculate_range(data))\n"
      ],
      "metadata": {
        "colab": {
          "base_uri": "https://localhost:8080/"
        },
        "id": "EMYjm0uf93fh",
        "outputId": "bc36c08e-d32d-4900-86b6-16e8b42f3c5e"
      },
      "execution_count": 8,
      "outputs": [
        {
          "output_type": "stream",
          "name": "stdout",
          "text": [
            "Range: 30\n"
          ]
        }
      ]
    },
    {
      "cell_type": "markdown",
      "source": [
        "**Question. No. 6. Create a dataset and plot its histogram to visualize skewness.**\n",
        "\n",
        "**Answer.**"
      ],
      "metadata": {
        "id": "I4RHvN_09-Li"
      }
    },
    {
      "cell_type": "code",
      "source": [
        "import matplotlib.pyplot as plt\n",
        "\n",
        "data = [10, 20, 20, 30, 30, 30, 68, 34, 56, 86, 34, 86, 97, 24, 45, 65, 56, 76, 34, 40, 50, 90]\n",
        "plt.hist(data, bins=7, edgecolor='black')\n",
        "plt.title(\"Histogram to Visualize Skewness\")\n",
        "plt.xlabel(\"Value\")\n",
        "plt.ylabel(\"Frequency\")\n",
        "plt.show()"
      ],
      "metadata": {
        "colab": {
          "base_uri": "https://localhost:8080/",
          "height": 472
        },
        "id": "DGdoSc6D-YP0",
        "outputId": "1eff9c39-76f4-4248-eef6-bd9b525a5337"
      },
      "execution_count": 9,
      "outputs": [
        {
          "output_type": "display_data",
          "data": {
            "text/plain": [
              "<Figure size 640x480 with 1 Axes>"
            ],
            "image/png": "[encoded data removed]"
          },
          "metadata": {}
        }
      ]
    },
    {
      "cell_type": "markdown",
      "source": [
        "**Question. No. 7. Calculate skewness and kurtosis of a dataset using Python libraries.**\n",
        "\n",
        "**Answer.**"
      ],
      "metadata": {
        "id": "LowKQefu-7LM"
      }
    },
    {
      "cell_type": "code",
      "source": [
        "from scipy.stats import skew, kurtosis\n",
        "\n",
        "data = [10, 20, 30, 40, 50, 100]\n",
        "print(\"Skewness:\", skew(data))\n",
        "print(\"Kurtosis:\", kurtosis(data))\n"
      ],
      "metadata": {
        "colab": {
          "base_uri": "https://localhost:8080/"
        },
        "id": "944HiDSZ_oey",
        "outputId": "f7b4dd52-b7e4-4277-fc35-cec11e1ab8d3"
      },
      "execution_count": 10,
      "outputs": [
        {
          "output_type": "stream",
          "name": "stdout",
          "text": [
            "Skewness: 1.0513280892320205\n",
            "Kurtosis: -0.021349099704380592\n"
          ]
        }
      ]
    },
    {
      "cell_type": "markdown",
      "source": [
        "**Question. No. 8. Generate a dataset and demonstrate positive and negative skewness.**\n",
        "\n",
        "**Answer.**"
      ],
      "metadata": {
        "id": "4OqJsb0P_zSW"
      }
    },
    {
      "cell_type": "code",
      "source": [
        "import numpy as np\n",
        "\n",
        "# Positive skew\n",
        "pos_skew = np.random.exponential(scale=2, size=1000)\n",
        "\n",
        "# Negative skew (negate positive skew)\n",
        "neg_skew = -np.random.exponential(scale=2, size=1000)\n",
        "\n",
        "plt.hist(pos_skew, bins=30)\n",
        "plt.title(\"Positive Skewness\")\n",
        "plt.show()\n",
        "\n",
        "plt.hist(neg_skew, bins=30)\n",
        "plt.title(\"Negative Skewness\")\n",
        "plt.show()\n"
      ],
      "metadata": {
        "colab": {
          "base_uri": "https://localhost:8080/",
          "height": 887
        },
        "id": "7CYW-zkv_pRT",
        "outputId": "5812ef08-12b1-4e3c-f5be-89a2076f52de"
      },
      "execution_count": 11,
      "outputs": [
        {
          "output_type": "display_data",
          "data": {
            "text/plain": [
              "<Figure size 640x480 with 1 Axes>"
            ],
            "image/png": "[encoded data removed]"
          },
          "metadata": {}
        },
        {
          "output_type": "display_data",
          "data": {
            "text/plain": [
              "<Figure size 640x480 with 1 Axes>"
            ],
            "image/png": "[encoded data removed]"
          },
          "metadata": {}
        }
      ]
    },
    {
      "cell_type": "markdown",
      "source": [
        "**Question. No. 9. Write a Python script to calculate covariance between two datasets.**\n",
        "\n",
        "**Anwer.**"
      ],
      "metadata": {
        "id": "R3FK14JRAkE7"
      }
    },
    {
      "cell_type": "code",
      "source": [
        "import numpy as np\n",
        "\n",
        "x = [1, 2, 3, 4, 5]\n",
        "y = [5, 4, 3, 2, 1]\n",
        "\n",
        "cov_matrix = np.cov(x, y)\n",
        "print(\"Covariance:\", cov_matrix[0][1])\n"
      ],
      "metadata": {
        "colab": {
          "base_uri": "https://localhost:8080/"
        },
        "id": "bnwXxAB_ArkD",
        "outputId": "c20c0128-99ce-44f6-ec9a-fcdf87ef9597"
      },
      "execution_count": 12,
      "outputs": [
        {
          "output_type": "stream",
          "name": "stdout",
          "text": [
            "Covariance: -2.5\n"
          ]
        }
      ]
    },
    {
      "cell_type": "markdown",
      "source": [
        "**Question. No. 10. Write a Python script to calculate the correlation coefficient between two datasets.**\n",
        "\n",
        "**Answer.**"
      ],
      "metadata": {
        "id": "B-1VKYoABHzU"
      }
    },
    {
      "cell_type": "code",
      "source": [
        "import numpy as np\n",
        "\n",
        "x = [1, 2, 3, 4, 5]\n",
        "y = [2, 4, 6, 8, 10]\n",
        "\n",
        "correlation = np.corrcoef(x, y)\n",
        "print(\"Correlation Coefficient:\", correlation[0][1])\n"
      ],
      "metadata": {
        "colab": {
          "base_uri": "https://localhost:8080/"
        },
        "id": "6igraEVvBRzx",
        "outputId": "4f9134d5-346e-4d25-c323-40676db93334"
      },
      "execution_count": 13,
      "outputs": [
        {
          "output_type": "stream",
          "name": "stdout",
          "text": [
            "Correlation Coefficient: 0.9999999999999999\n"
          ]
        }
      ]
    },
    {
      "cell_type": "markdown",
      "source": [
        "**Question. No. 11. Create a scatter plot to visualize the relationship between two variables.**\n",
        "\n",
        "**Answer.**"
      ],
      "metadata": {
        "id": "KhGt7beYCEPF"
      }
    },
    {
      "cell_type": "code",
      "source": [
        "import matplotlib.pyplot as plt\n",
        "\n",
        "x = [1, 2, 3, 4, 5]\n",
        "y = [2, 4, 5, 4, 5]\n",
        "\n",
        "plt.scatter(x, y)\n",
        "plt.title(\"Scatter Plot\")\n",
        "plt.xlabel(\"X values\")\n",
        "plt.ylabel(\"Y values\")\n",
        "plt.show()\n"
      ],
      "metadata": {
        "colab": {
          "base_uri": "https://localhost:8080/",
          "height": 472
        },
        "id": "En6hGXdhCTqE",
        "outputId": "5d4daa08-bba3-4db0-8f6f-2ac72abfa848"
      },
      "execution_count": 14,
      "outputs": [
        {
          "output_type": "display_data",
          "data": {
            "text/plain": [
              "<Figure size 640x480 with 1 Axes>"
            ],
            "image/png": "[encoded data removed]"
          },
          "metadata": {}
        }
      ]
    },
    {
      "cell_type": "markdown",
      "source": [
        "**Question. No. 12. Implement and compare simple random sampleing and systematic sampling.**\n",
        "\n",
        "**Answer.**"
      ],
      "metadata": {
        "id": "m3A2gcA_Cg-7"
      }
    },
    {
      "cell_type": "code",
      "source": [
        "import numpy as np\n",
        "\n",
        "data = list(range(1, 101))\n",
        "\n",
        "# Simple Random Sampling\n",
        "random_sample = random.sample(data, 10)\n",
        "\n",
        "# Systematic Sampling\n",
        "k = 10\n",
        "systematic_sample = data[::k]\n",
        "\n",
        "print(\"Simple Random Sample:\", random_sample)\n",
        "print(\"Systematic Sample:\", systematic_sample)\n"
      ],
      "metadata": {
        "colab": {
          "base_uri": "https://localhost:8080/"
        },
        "id": "p181y34pCuLQ",
        "outputId": "83e6ba4a-b9c2-43b6-86bf-122eda755f60"
      },
      "execution_count": 15,
      "outputs": [
        {
          "output_type": "stream",
          "name": "stdout",
          "text": [
            "Simple Random Sample: [56, 87, 18, 100, 30, 2, 16, 92, 48, 8]\n",
            "Systematic Sample: [1, 11, 21, 31, 41, 51, 61, 71, 81, 91]\n"
          ]
        }
      ]
    },
    {
      "cell_type": "markdown",
      "source": [
        "**Question. No. 13. Calculate the mean, meadian and mode of grouped data.**\n",
        "\n",
        "**Answer.**"
      ],
      "metadata": {
        "id": "O1GOGGvYC9b_"
      }
    },
    {
      "cell_type": "code",
      "source": [
        "import pandas as pd\n",
        "import statistics\n",
        "\n",
        "# Grouped data (class midpoints and frequencies)\n",
        "data = {10: 3, 20: 5, 30: 7, 40: 2}\n",
        "midpoints = list(data.keys())\n",
        "frequencies = list(data.values())\n",
        "\n",
        "# Mean\n",
        "mean = sum([midpoints[i] * frequencies[i] for i in range(len(midpoints))]) / sum(frequencies)\n",
        "\n",
        "# Median (approximation)\n",
        "df = pd.DataFrame({\"mid\": midpoints, \"freq\": frequencies})\n",
        "df = df.sort_values(\"mid\").reset_index(drop=True)\n",
        "df[\"cum_freq\"] = df[\"freq\"].cumsum()\n",
        "n = df[\"freq\"].sum()\n",
        "median_pos = n / 2\n",
        "median = df[df[\"cum_freq\"] >= median_pos].iloc[0][\"mid\"]\n",
        "\n",
        "# Mode (approximation: class with highest frequency)\n",
        "mode = midpoints[frequencies.index(max(frequencies))]\n",
        "\n",
        "print(\"Grouped Mean:\", mean)\n",
        "print(\"Grouped Median:\", median)\n",
        "print(\"Grouped Mode:\", mode)\n"
      ],
      "metadata": {
        "colab": {
          "base_uri": "https://localhost:8080/"
        },
        "id": "UlIPpBUoDHqb",
        "outputId": "f6509218-a569-480e-fe3b-242b32ece130"
      },
      "execution_count": 16,
      "outputs": [
        {
          "output_type": "stream",
          "name": "stdout",
          "text": [
            "Grouped Mean: 24.705882352941178\n",
            "Grouped Median: 30\n",
            "Grouped Mode: 30\n"
          ]
        }
      ]
    },
    {
      "cell_type": "markdown",
      "source": [
        "**Question. No. 14. Simulate data using Python and calculate its central tendency and dispersion.**\n",
        "\n",
        "**Answer.**"
      ],
      "metadata": {
        "id": "edSSgov1DT1E"
      }
    },
    {
      "cell_type": "code",
      "source": [
        "import numpy as np\n",
        "import statistics\n",
        "\n",
        "data = np.random.normal(loc=50, scale=10, size=100)\n",
        "mean = np.mean(data)\n",
        "median = np.median(data)\n",
        "mode = statistics.mode(data)\n",
        "variance = np.var(data)\n",
        "std_dev = np.std(data)\n",
        "\n",
        "print(\"Mean:\", mean)\n",
        "print(\"Median:\", median)\n",
        "print(\"Mode:\", mode)\n",
        "print(\"Variance:\", variance)\n",
        "print(\"Standard Deviation:\", std_dev)\n"
      ],
      "metadata": {
        "colab": {
          "base_uri": "https://localhost:8080/"
        },
        "id": "n37MiceBDcVZ",
        "outputId": "ce2c2205-176f-49cd-dcc8-6fd5bb037f86"
      },
      "execution_count": 17,
      "outputs": [
        {
          "output_type": "stream",
          "name": "stdout",
          "text": [
            "Mean: 49.25240219573756\n",
            "Median: 48.58073207520984\n",
            "Mode: 49.973437927982005\n",
            "Variance: 91.26386569142407\n",
            "Standard Deviation: 9.553212323162512\n"
          ]
        }
      ]
    }
  ]
}